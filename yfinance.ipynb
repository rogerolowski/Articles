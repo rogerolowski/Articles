{
  "nbformat": 4,
  "nbformat_minor": 0,
  "metadata": {
    "colab": {
      "provenance": [],
      "include_colab_link": true
    },
    "kernelspec": {
      "name": "python3",
      "display_name": "Python 3"
    },
    "language_info": {
      "name": "python"
    }
  },
  "cells": [
    {
      "cell_type": "markdown",
      "metadata": {
        "id": "view-in-github",
        "colab_type": "text"
      },
      "source": [
        "<a href=\"https://colab.research.google.com/github/rogerolowski/Articles/blob/master/yfinance.ipynb\" target=\"_parent\"><img src=\"https://colab.research.google.com/assets/colab-badge.svg\" alt=\"Open In Colab\"/></a>"
      ]
    },
    {
      "cell_type": "code",
      "metadata": {
        "colab": {
          "base_uri": "https://localhost:8080/"
        },
        "id": "WDedoHzsuZau",
        "outputId": "6d1c6e36-ba76-49ea-e864-708e3cfce520"
      },
      "source": [
        "# https://www.mathclasstutor.com/2021/08/japan-nikkei-225-price-analysis-in.html\n",
        "# install a library\n",
        "!pip install yfinance"
      ],
      "execution_count": null,
      "outputs": [
        {
          "output_type": "stream",
          "text": [
            "Requirement already satisfied: yfinance in /usr/local/lib/python3.7/dist-packages (0.1.63)\n",
            "Requirement already satisfied: requests>=2.20 in /usr/local/lib/python3.7/dist-packages (from yfinance) (2.23.0)\n",
            "Requirement already satisfied: pandas>=0.24 in /usr/local/lib/python3.7/dist-packages (from yfinance) (1.1.5)\n",
            "Requirement already satisfied: multitasking>=0.0.7 in /usr/local/lib/python3.7/dist-packages (from yfinance) (0.0.9)\n",
            "Requirement already satisfied: lxml>=4.5.1 in /usr/local/lib/python3.7/dist-packages (from yfinance) (4.6.3)\n",
            "Requirement already satisfied: numpy>=1.15 in /usr/local/lib/python3.7/dist-packages (from yfinance) (1.19.5)\n",
            "Requirement already satisfied: pytz>=2017.2 in /usr/local/lib/python3.7/dist-packages (from pandas>=0.24->yfinance) (2018.9)\n",
            "Requirement already satisfied: python-dateutil>=2.7.3 in /usr/local/lib/python3.7/dist-packages (from pandas>=0.24->yfinance) (2.8.2)\n",
            "Requirement already satisfied: six>=1.5 in /usr/local/lib/python3.7/dist-packages (from python-dateutil>=2.7.3->pandas>=0.24->yfinance) (1.15.0)\n",
            "Requirement already satisfied: urllib3!=1.25.0,!=1.25.1,<1.26,>=1.21.1 in /usr/local/lib/python3.7/dist-packages (from requests>=2.20->yfinance) (1.24.3)\n",
            "Requirement already satisfied: chardet<4,>=3.0.2 in /usr/local/lib/python3.7/dist-packages (from requests>=2.20->yfinance) (3.0.4)\n",
            "Requirement already satisfied: idna<3,>=2.5 in /usr/local/lib/python3.7/dist-packages (from requests>=2.20->yfinance) (2.10)\n",
            "Requirement already satisfied: certifi>=2017.4.17 in /usr/local/lib/python3.7/dist-packages (from requests>=2.20->yfinance) (2021.5.30)\n"
          ],
          "name": "stdout"
        }
      ]
    },
    {
      "cell_type": "code",
      "metadata": {
        "id": "ZPxmC-8muWav",
        "colab": {
          "base_uri": "https://localhost:8080/"
        },
        "outputId": "1c835b7b-00ed-4241-e524-3cf185482be3"
      },
      "source": [
        "# import libraries\n",
        "import yfinance as yf # for financial data\n",
        "import numpy as np # for scientific computing\n",
        "import pandas as pd # for dealing with data frames\n",
        "import seaborn as sns # for creating charts\n",
        "import scipy.stats as scs # for technical computing (pronounced [saɪpa]) \n",
        "import statsmodels.api as sm # for providinga complement to scipy for statistical computations\n",
        "import statsmodels.tsa.api as smt # for providinga complement to scipy for statistical computations\n",
        "import matplotlib.pyplot as plt # for creating charts"
      ],
      "execution_count": null,
      "outputs": [
        {
          "output_type": "stream",
          "text": [
            "/usr/local/lib/python3.7/dist-packages/statsmodels/tools/_testing.py:19: FutureWarning: pandas.util.testing is deprecated. Use the functions in the public API at pandas.testing instead.\n",
            "  import pandas.util.testing as tm\n"
          ],
          "name": "stderr"
        }
      ]
    },
    {
      "cell_type": "code",
      "metadata": {
        "id": "6AonCXBzuuEx",
        "colab": {
          "base_uri": "https://localhost:8080/",
          "height": 450
        },
        "outputId": "f064f1c4-508e-49c3-e41f-dee7381031fa"
      },
      "source": [
        "# load data\n",
        "df0 = yf.download('^N225',\n",
        "start='2020-01-01',\n",
        "end='2021-08-25',\n",
        "progress=False)\n",
        "df0"
      ],
      "execution_count": null,
      "outputs": [
        {
          "output_type": "execute_result",
          "data": {
            "text/html": [
              "<div>\n",
              "<style scoped>\n",
              "    .dataframe tbody tr th:only-of-type {\n",
              "        vertical-align: middle;\n",
              "    }\n",
              "\n",
              "    .dataframe tbody tr th {\n",
              "        vertical-align: top;\n",
              "    }\n",
              "\n",
              "    .dataframe thead th {\n",
              "        text-align: right;\n",
              "    }\n",
              "</style>\n",
              "<table border=\"1\" class=\"dataframe\">\n",
              "  <thead>\n",
              "    <tr style=\"text-align: right;\">\n",
              "      <th></th>\n",
              "      <th>Open</th>\n",
              "      <th>High</th>\n",
              "      <th>Low</th>\n",
              "      <th>Close</th>\n",
              "      <th>Adj Close</th>\n",
              "      <th>Volume</th>\n",
              "    </tr>\n",
              "    <tr>\n",
              "      <th>Date</th>\n",
              "      <th></th>\n",
              "      <th></th>\n",
              "      <th></th>\n",
              "      <th></th>\n",
              "      <th></th>\n",
              "      <th></th>\n",
              "    </tr>\n",
              "  </thead>\n",
              "  <tbody>\n",
              "    <tr>\n",
              "      <th>2020-01-06</th>\n",
              "      <td>23319.759766</td>\n",
              "      <td>23365.359375</td>\n",
              "      <td>23148.529297</td>\n",
              "      <td>23204.859375</td>\n",
              "      <td>23204.859375</td>\n",
              "      <td>72800000</td>\n",
              "    </tr>\n",
              "    <tr>\n",
              "      <th>2020-01-07</th>\n",
              "      <td>23320.119141</td>\n",
              "      <td>23577.439453</td>\n",
              "      <td>23299.919922</td>\n",
              "      <td>23575.720703</td>\n",
              "      <td>23575.720703</td>\n",
              "      <td>64300000</td>\n",
              "    </tr>\n",
              "    <tr>\n",
              "      <th>2020-01-08</th>\n",
              "      <td>23217.490234</td>\n",
              "      <td>23303.210938</td>\n",
              "      <td>22951.179688</td>\n",
              "      <td>23204.759766</td>\n",
              "      <td>23204.759766</td>\n",
              "      <td>79400000</td>\n",
              "    </tr>\n",
              "    <tr>\n",
              "      <th>2020-01-09</th>\n",
              "      <td>23530.289062</td>\n",
              "      <td>23767.089844</td>\n",
              "      <td>23506.150391</td>\n",
              "      <td>23739.869141</td>\n",
              "      <td>23739.869141</td>\n",
              "      <td>62200000</td>\n",
              "    </tr>\n",
              "    <tr>\n",
              "      <th>2020-01-10</th>\n",
              "      <td>23813.279297</td>\n",
              "      <td>23903.289062</td>\n",
              "      <td>23761.080078</td>\n",
              "      <td>23850.570312</td>\n",
              "      <td>23850.570312</td>\n",
              "      <td>55900000</td>\n",
              "    </tr>\n",
              "    <tr>\n",
              "      <th>...</th>\n",
              "      <td>...</td>\n",
              "      <td>...</td>\n",
              "      <td>...</td>\n",
              "      <td>...</td>\n",
              "      <td>...</td>\n",
              "      <td>...</td>\n",
              "    </tr>\n",
              "    <tr>\n",
              "      <th>2021-08-19</th>\n",
              "      <td>27398.580078</td>\n",
              "      <td>27504.800781</td>\n",
              "      <td>27255.580078</td>\n",
              "      <td>27281.169922</td>\n",
              "      <td>27281.169922</td>\n",
              "      <td>65100000</td>\n",
              "    </tr>\n",
              "    <tr>\n",
              "      <th>2021-08-20</th>\n",
              "      <td>27238.449219</td>\n",
              "      <td>27316.789062</td>\n",
              "      <td>26954.810547</td>\n",
              "      <td>27013.250000</td>\n",
              "      <td>27013.250000</td>\n",
              "      <td>75800000</td>\n",
              "    </tr>\n",
              "    <tr>\n",
              "      <th>2021-08-23</th>\n",
              "      <td>27193.099609</td>\n",
              "      <td>27541.630859</td>\n",
              "      <td>27193.099609</td>\n",
              "      <td>27494.240234</td>\n",
              "      <td>27494.240234</td>\n",
              "      <td>56800000</td>\n",
              "    </tr>\n",
              "    <tr>\n",
              "      <th>2021-08-24</th>\n",
              "      <td>27653.230469</td>\n",
              "      <td>27817.890625</td>\n",
              "      <td>27653.230469</td>\n",
              "      <td>27732.099609</td>\n",
              "      <td>27732.099609</td>\n",
              "      <td>57100000</td>\n",
              "    </tr>\n",
              "    <tr>\n",
              "      <th>2021-08-25</th>\n",
              "      <td>27768.130859</td>\n",
              "      <td>27897.720703</td>\n",
              "      <td>27684.050781</td>\n",
              "      <td>27724.800781</td>\n",
              "      <td>27724.800781</td>\n",
              "      <td>51500000</td>\n",
              "    </tr>\n",
              "  </tbody>\n",
              "</table>\n",
              "<p>400 rows × 6 columns</p>\n",
              "</div>"
            ],
            "text/plain": [
              "                    Open          High  ...     Adj Close    Volume\n",
              "Date                                    ...                        \n",
              "2020-01-06  23319.759766  23365.359375  ...  23204.859375  72800000\n",
              "2020-01-07  23320.119141  23577.439453  ...  23575.720703  64300000\n",
              "2020-01-08  23217.490234  23303.210938  ...  23204.759766  79400000\n",
              "2020-01-09  23530.289062  23767.089844  ...  23739.869141  62200000\n",
              "2020-01-10  23813.279297  23903.289062  ...  23850.570312  55900000\n",
              "...                  ...           ...  ...           ...       ...\n",
              "2021-08-19  27398.580078  27504.800781  ...  27281.169922  65100000\n",
              "2021-08-20  27238.449219  27316.789062  ...  27013.250000  75800000\n",
              "2021-08-23  27193.099609  27541.630859  ...  27494.240234  56800000\n",
              "2021-08-24  27653.230469  27817.890625  ...  27732.099609  57100000\n",
              "2021-08-25  27768.130859  27897.720703  ...  27724.800781  51500000\n",
              "\n",
              "[400 rows x 6 columns]"
            ]
          },
          "metadata": {},
          "execution_count": 3
        }
      ]
    },
    {
      "cell_type": "code",
      "metadata": {
        "id": "2RPrmY-Iu7jq",
        "colab": {
          "base_uri": "https://localhost:8080/",
          "height": 235
        },
        "outputId": "f8050076-d70e-40c0-c5a4-e1f95ff415fb"
      },
      "source": [
        "# select a column\n",
        "df_adj = df0.loc[:, ['Adj Close']]\n",
        "# change column names\n",
        "df_adj.rename(columns={'Adj Close':'adj_close'}, inplace=True)\n",
        "df_adj.head(5)"
      ],
      "execution_count": null,
      "outputs": [
        {
          "output_type": "execute_result",
          "data": {
            "text/html": [
              "<div>\n",
              "<style scoped>\n",
              "    .dataframe tbody tr th:only-of-type {\n",
              "        vertical-align: middle;\n",
              "    }\n",
              "\n",
              "    .dataframe tbody tr th {\n",
              "        vertical-align: top;\n",
              "    }\n",
              "\n",
              "    .dataframe thead th {\n",
              "        text-align: right;\n",
              "    }\n",
              "</style>\n",
              "<table border=\"1\" class=\"dataframe\">\n",
              "  <thead>\n",
              "    <tr style=\"text-align: right;\">\n",
              "      <th></th>\n",
              "      <th>adj_close</th>\n",
              "    </tr>\n",
              "    <tr>\n",
              "      <th>Date</th>\n",
              "      <th></th>\n",
              "    </tr>\n",
              "  </thead>\n",
              "  <tbody>\n",
              "    <tr>\n",
              "      <th>2020-01-06</th>\n",
              "      <td>23204.859375</td>\n",
              "    </tr>\n",
              "    <tr>\n",
              "      <th>2020-01-07</th>\n",
              "      <td>23575.720703</td>\n",
              "    </tr>\n",
              "    <tr>\n",
              "      <th>2020-01-08</th>\n",
              "      <td>23204.759766</td>\n",
              "    </tr>\n",
              "    <tr>\n",
              "      <th>2020-01-09</th>\n",
              "      <td>23739.869141</td>\n",
              "    </tr>\n",
              "    <tr>\n",
              "      <th>2020-01-10</th>\n",
              "      <td>23850.570312</td>\n",
              "    </tr>\n",
              "  </tbody>\n",
              "</table>\n",
              "</div>"
            ],
            "text/plain": [
              "               adj_close\n",
              "Date                    \n",
              "2020-01-06  23204.859375\n",
              "2020-01-07  23575.720703\n",
              "2020-01-08  23204.759766\n",
              "2020-01-09  23739.869141\n",
              "2020-01-10  23850.570312"
            ]
          },
          "metadata": {},
          "execution_count": 4
        }
      ]
    },
    {
      "cell_type": "code",
      "metadata": {
        "colab": {
          "base_uri": "https://localhost:8080/",
          "height": 294
        },
        "id": "vtSSrOAD6nVo",
        "outputId": "244dff9f-c38e-4347-9dd0-3f702e06fb44"
      },
      "source": [
        "# create a line chart\n",
        "df_adj.plot()"
      ],
      "execution_count": null,
      "outputs": [
        {
          "output_type": "execute_result",
          "data": {
            "text/plain": [
              "<matplotlib.axes._subplots.AxesSubplot at 0x7f0eb4e93a10>"
            ]
          },
          "metadata": {},
          "execution_count": 5
        },
        {
          "output_type": "display_data",
          "data": {
            "image/png": "[encoded data removed]",
            "text/plain": [
              "<Figure size 432x288 with 1 Axes>"
            ]
          },
          "metadata": {
            "needs_background": "light"
          }
        }
      ]
    },
    {
      "cell_type": "code",
      "metadata": {
        "colab": {
          "base_uri": "https://localhost:8080/",
          "height": 390
        },
        "id": "AAaStZyIvBvu",
        "outputId": "e182e156-cc43-40ef-ebec-1f9ed3fdd49e"
      },
      "source": [
        "# convert adj_close to log\n",
        "df_adj['simple_rtn'] = df_adj.adj_close.pct_change()\n",
        "df_adj['log_rtn'] = np.log(df_adj.adj_close/df_adj.adj_close.shift(1))\n",
        "df_adj_log = df_adj[['simple_rtn','log_rtn']]\n",
        "df_adj_log.tail(10)"
      ],
      "execution_count": null,
      "outputs": [
        {
          "output_type": "execute_result",
          "data": {
            "text/html": [
              "<div>\n",
              "<style scoped>\n",
              "    .dataframe tbody tr th:only-of-type {\n",
              "        vertical-align: middle;\n",
              "    }\n",
              "\n",
              "    .dataframe tbody tr th {\n",
              "        vertical-align: top;\n",
              "    }\n",
              "\n",
              "    .dataframe thead th {\n",
              "        text-align: right;\n",
              "    }\n",
              "</style>\n",
              "<table border=\"1\" class=\"dataframe\">\n",
              "  <thead>\n",
              "    <tr style=\"text-align: right;\">\n",
              "      <th></th>\n",
              "      <th>simple_rtn</th>\n",
              "      <th>log_rtn</th>\n",
              "    </tr>\n",
              "    <tr>\n",
              "      <th>Date</th>\n",
              "      <th></th>\n",
              "      <th></th>\n",
              "    </tr>\n",
              "  </thead>\n",
              "  <tbody>\n",
              "    <tr>\n",
              "      <th>2021-08-12</th>\n",
              "      <td>-0.001977</td>\n",
              "      <td>-0.001979</td>\n",
              "    </tr>\n",
              "    <tr>\n",
              "      <th>2021-08-13</th>\n",
              "      <td>-0.001352</td>\n",
              "      <td>-0.001353</td>\n",
              "    </tr>\n",
              "    <tr>\n",
              "      <th>2021-08-16</th>\n",
              "      <td>-0.016226</td>\n",
              "      <td>-0.016359</td>\n",
              "    </tr>\n",
              "    <tr>\n",
              "      <th>2021-08-17</th>\n",
              "      <td>-0.003587</td>\n",
              "      <td>-0.003593</td>\n",
              "    </tr>\n",
              "    <tr>\n",
              "      <th>2021-08-18</th>\n",
              "      <td>0.005887</td>\n",
              "      <td>0.005869</td>\n",
              "    </tr>\n",
              "    <tr>\n",
              "      <th>2021-08-19</th>\n",
              "      <td>-0.011047</td>\n",
              "      <td>-0.011108</td>\n",
              "    </tr>\n",
              "    <tr>\n",
              "      <th>2021-08-20</th>\n",
              "      <td>-0.009821</td>\n",
              "      <td>-0.009869</td>\n",
              "    </tr>\n",
              "    <tr>\n",
              "      <th>2021-08-23</th>\n",
              "      <td>0.017806</td>\n",
              "      <td>0.017649</td>\n",
              "    </tr>\n",
              "    <tr>\n",
              "      <th>2021-08-24</th>\n",
              "      <td>0.008651</td>\n",
              "      <td>0.008614</td>\n",
              "    </tr>\n",
              "    <tr>\n",
              "      <th>2021-08-25</th>\n",
              "      <td>-0.000263</td>\n",
              "      <td>-0.000263</td>\n",
              "    </tr>\n",
              "  </tbody>\n",
              "</table>\n",
              "</div>"
            ],
            "text/plain": [
              "            simple_rtn   log_rtn\n",
              "Date                            \n",
              "2021-08-12   -0.001977 -0.001979\n",
              "2021-08-13   -0.001352 -0.001353\n",
              "2021-08-16   -0.016226 -0.016359\n",
              "2021-08-17   -0.003587 -0.003593\n",
              "2021-08-18    0.005887  0.005869\n",
              "2021-08-19   -0.011047 -0.011108\n",
              "2021-08-20   -0.009821 -0.009869\n",
              "2021-08-23    0.017806  0.017649\n",
              "2021-08-24    0.008651  0.008614\n",
              "2021-08-25   -0.000263 -0.000263"
            ]
          },
          "metadata": {},
          "execution_count": 6
        }
      ]
    },
    {
      "cell_type": "code",
      "metadata": {
        "colab": {
          "base_uri": "https://localhost:8080/",
          "height": 294
        },
        "id": "6T4FryuS50__",
        "outputId": "d05483cd-8f0c-4af7-b7fc-ea5989f7783c"
      },
      "source": [
        "# create a line chart\n",
        "df_adj_log.plot(y = 'simple_rtn')"
      ],
      "execution_count": null,
      "outputs": [
        {
          "output_type": "execute_result",
          "data": {
            "text/plain": [
              "<matplotlib.axes._subplots.AxesSubplot at 0x7f0eb48effd0>"
            ]
          },
          "metadata": {},
          "execution_count": 7
        },
        {
          "output_type": "display_data",
          "data": {
            "image/png": "[encoded data removed]",
            "text/plain": [
              "<Figure size 432x288 with 1 Axes>"
            ]
          },
          "metadata": {
            "needs_background": "light"
          }
        }
      ]
    },
    {
      "cell_type": "code",
      "metadata": {
        "colab": {
          "base_uri": "https://localhost:8080/",
          "height": 294
        },
        "id": "OOGbuA2p8Bno",
        "outputId": "b897eab8-10ae-444c-ab14-cea34ac18521"
      },
      "source": [
        "# create a line chart\n",
        "df_adj_log.plot(y = 'log_rtn')"
      ],
      "execution_count": null,
      "outputs": [
        {
          "output_type": "execute_result",
          "data": {
            "text/plain": [
              "<matplotlib.axes._subplots.AxesSubplot at 0x7f0eb4884050>"
            ]
          },
          "metadata": {},
          "execution_count": 8
        },
        {
          "output_type": "display_data",
          "data": {
            "image/png": "[encoded data removed]",
            "text/plain": [
              "<Figure size 432x288 with 1 Axes>"
            ]
          },
          "metadata": {
            "needs_background": "light"
          }
        }
      ]
    },
    {
      "cell_type": "code",
      "metadata": {
        "id": "UlL3bRwA-QlF"
      },
      "source": [
        "# create a function for realaized volatility\n",
        "def realized_volatility(x):\n",
        " return np.sqrt(np.sum(x**2))"
      ],
      "execution_count": null,
      "outputs": []
    },
    {
      "cell_type": "code",
      "metadata": {
        "id": "ivc3kU2t-U-C",
        "colab": {
          "base_uri": "https://localhost:8080/",
          "height": 700
        },
        "outputId": "26d91f9a-c817-4dfa-e724-e619f1e7fc02"
      },
      "source": [
        "# get realized volatality \n",
        "df_rv = df_adj_log.groupby(pd.Grouper(freq='M')).apply(realized_volatility)\n",
        "df_rv"
      ],
      "execution_count": null,
      "outputs": [
        {
          "output_type": "execute_result",
          "data": {
            "text/html": [
              "<div>\n",
              "<style scoped>\n",
              "    .dataframe tbody tr th:only-of-type {\n",
              "        vertical-align: middle;\n",
              "    }\n",
              "\n",
              "    .dataframe tbody tr th {\n",
              "        vertical-align: top;\n",
              "    }\n",
              "\n",
              "    .dataframe thead th {\n",
              "        text-align: right;\n",
              "    }\n",
              "</style>\n",
              "<table border=\"1\" class=\"dataframe\">\n",
              "  <thead>\n",
              "    <tr style=\"text-align: right;\">\n",
              "      <th></th>\n",
              "      <th>simple_rtn</th>\n",
              "      <th>log_rtn</th>\n",
              "    </tr>\n",
              "    <tr>\n",
              "      <th>Date</th>\n",
              "      <th></th>\n",
              "      <th></th>\n",
              "    </tr>\n",
              "  </thead>\n",
              "  <tbody>\n",
              "    <tr>\n",
              "      <th>2020-01-31</th>\n",
              "      <td>0.047634</td>\n",
              "      <td>0.047648</td>\n",
              "    </tr>\n",
              "    <tr>\n",
              "      <th>2020-02-29</th>\n",
              "      <td>0.065219</td>\n",
              "      <td>0.065899</td>\n",
              "    </tr>\n",
              "    <tr>\n",
              "      <th>2020-03-31</th>\n",
              "      <td>0.163448</td>\n",
              "      <td>0.162614</td>\n",
              "    </tr>\n",
              "    <tr>\n",
              "      <th>2020-04-30</th>\n",
              "      <td>0.098564</td>\n",
              "      <td>0.098258</td>\n",
              "    </tr>\n",
              "    <tr>\n",
              "      <th>2020-05-31</th>\n",
              "      <td>0.062186</td>\n",
              "      <td>0.061976</td>\n",
              "    </tr>\n",
              "    <tr>\n",
              "      <th>2020-06-30</th>\n",
              "      <td>0.078650</td>\n",
              "      <td>0.078385</td>\n",
              "    </tr>\n",
              "    <tr>\n",
              "      <th>2020-07-31</th>\n",
              "      <td>0.050682</td>\n",
              "      <td>0.050747</td>\n",
              "    </tr>\n",
              "    <tr>\n",
              "      <th>2020-08-31</th>\n",
              "      <td>0.047215</td>\n",
              "      <td>0.046926</td>\n",
              "    </tr>\n",
              "    <tr>\n",
              "      <th>2020-09-30</th>\n",
              "      <td>0.034970</td>\n",
              "      <td>0.035007</td>\n",
              "    </tr>\n",
              "    <tr>\n",
              "      <th>2020-10-31</th>\n",
              "      <td>0.028773</td>\n",
              "      <td>0.028779</td>\n",
              "    </tr>\n",
              "    <tr>\n",
              "      <th>2020-11-30</th>\n",
              "      <td>0.055846</td>\n",
              "      <td>0.055384</td>\n",
              "    </tr>\n",
              "    <tr>\n",
              "      <th>2020-12-31</th>\n",
              "      <td>0.037506</td>\n",
              "      <td>0.037213</td>\n",
              "    </tr>\n",
              "    <tr>\n",
              "      <th>2021-01-31</th>\n",
              "      <td>0.047257</td>\n",
              "      <td>0.047162</td>\n",
              "    </tr>\n",
              "    <tr>\n",
              "      <th>2021-02-28</th>\n",
              "      <td>0.063384</td>\n",
              "      <td>0.063695</td>\n",
              "    </tr>\n",
              "    <tr>\n",
              "      <th>2021-03-31</th>\n",
              "      <td>0.057464</td>\n",
              "      <td>0.057509</td>\n",
              "    </tr>\n",
              "    <tr>\n",
              "      <th>2021-04-30</th>\n",
              "      <td>0.046742</td>\n",
              "      <td>0.046758</td>\n",
              "    </tr>\n",
              "    <tr>\n",
              "      <th>2021-05-31</th>\n",
              "      <td>0.063863</td>\n",
              "      <td>0.063995</td>\n",
              "    </tr>\n",
              "    <tr>\n",
              "      <th>2021-06-30</th>\n",
              "      <td>0.050170</td>\n",
              "      <td>0.050241</td>\n",
              "    </tr>\n",
              "    <tr>\n",
              "      <th>2021-07-31</th>\n",
              "      <td>0.045025</td>\n",
              "      <td>0.045058</td>\n",
              "    </tr>\n",
              "    <tr>\n",
              "      <th>2021-08-31</th>\n",
              "      <td>0.037093</td>\n",
              "      <td>0.037012</td>\n",
              "    </tr>\n",
              "  </tbody>\n",
              "</table>\n",
              "</div>"
            ],
            "text/plain": [
              "            simple_rtn   log_rtn\n",
              "Date                            \n",
              "2020-01-31    0.047634  0.047648\n",
              "2020-02-29    0.065219  0.065899\n",
              "2020-03-31    0.163448  0.162614\n",
              "2020-04-30    0.098564  0.098258\n",
              "2020-05-31    0.062186  0.061976\n",
              "2020-06-30    0.078650  0.078385\n",
              "2020-07-31    0.050682  0.050747\n",
              "2020-08-31    0.047215  0.046926\n",
              "2020-09-30    0.034970  0.035007\n",
              "2020-10-31    0.028773  0.028779\n",
              "2020-11-30    0.055846  0.055384\n",
              "2020-12-31    0.037506  0.037213\n",
              "2021-01-31    0.047257  0.047162\n",
              "2021-02-28    0.063384  0.063695\n",
              "2021-03-31    0.057464  0.057509\n",
              "2021-04-30    0.046742  0.046758\n",
              "2021-05-31    0.063863  0.063995\n",
              "2021-06-30    0.050170  0.050241\n",
              "2021-07-31    0.045025  0.045058\n",
              "2021-08-31    0.037093  0.037012"
            ]
          },
          "metadata": {},
          "execution_count": 10
        }
      ]
    },
    {
      "cell_type": "code",
      "metadata": {
        "colab": {
          "base_uri": "https://localhost:8080/",
          "height": 700
        },
        "id": "8cgumch_vKQp",
        "outputId": "2b73350e-3eda-4fc4-c0cd-ccd7b9f4fa54"
      },
      "source": [
        "# change column names\n",
        "df_rv.rename(columns={'log_rtn': 'rv'}, inplace=True)\n",
        "# calculate realized volatilities for each month\n",
        "df_rv.rv = df_rv.rv * np.sqrt(12)\n",
        "df_rv"
      ],
      "execution_count": null,
      "outputs": [
        {
          "output_type": "execute_result",
          "data": {
            "text/html": [
              "<div>\n",
              "<style scoped>\n",
              "    .dataframe tbody tr th:only-of-type {\n",
              "        vertical-align: middle;\n",
              "    }\n",
              "\n",
              "    .dataframe tbody tr th {\n",
              "        vertical-align: top;\n",
              "    }\n",
              "\n",
              "    .dataframe thead th {\n",
              "        text-align: right;\n",
              "    }\n",
              "</style>\n",
              "<table border=\"1\" class=\"dataframe\">\n",
              "  <thead>\n",
              "    <tr style=\"text-align: right;\">\n",
              "      <th></th>\n",
              "      <th>simple_rtn</th>\n",
              "      <th>rv</th>\n",
              "    </tr>\n",
              "    <tr>\n",
              "      <th>Date</th>\n",
              "      <th></th>\n",
              "      <th></th>\n",
              "    </tr>\n",
              "  </thead>\n",
              "  <tbody>\n",
              "    <tr>\n",
              "      <th>2020-01-31</th>\n",
              "      <td>0.047634</td>\n",
              "      <td>0.165058</td>\n",
              "    </tr>\n",
              "    <tr>\n",
              "      <th>2020-02-29</th>\n",
              "      <td>0.065219</td>\n",
              "      <td>0.228281</td>\n",
              "    </tr>\n",
              "    <tr>\n",
              "      <th>2020-03-31</th>\n",
              "      <td>0.163448</td>\n",
              "      <td>0.563311</td>\n",
              "    </tr>\n",
              "    <tr>\n",
              "      <th>2020-04-30</th>\n",
              "      <td>0.098564</td>\n",
              "      <td>0.340374</td>\n",
              "    </tr>\n",
              "    <tr>\n",
              "      <th>2020-05-31</th>\n",
              "      <td>0.062186</td>\n",
              "      <td>0.214690</td>\n",
              "    </tr>\n",
              "    <tr>\n",
              "      <th>2020-06-30</th>\n",
              "      <td>0.078650</td>\n",
              "      <td>0.271533</td>\n",
              "    </tr>\n",
              "    <tr>\n",
              "      <th>2020-07-31</th>\n",
              "      <td>0.050682</td>\n",
              "      <td>0.175791</td>\n",
              "    </tr>\n",
              "    <tr>\n",
              "      <th>2020-08-31</th>\n",
              "      <td>0.047215</td>\n",
              "      <td>0.162555</td>\n",
              "    </tr>\n",
              "    <tr>\n",
              "      <th>2020-09-30</th>\n",
              "      <td>0.034970</td>\n",
              "      <td>0.121269</td>\n",
              "    </tr>\n",
              "    <tr>\n",
              "      <th>2020-10-31</th>\n",
              "      <td>0.028773</td>\n",
              "      <td>0.099693</td>\n",
              "    </tr>\n",
              "    <tr>\n",
              "      <th>2020-11-30</th>\n",
              "      <td>0.055846</td>\n",
              "      <td>0.191857</td>\n",
              "    </tr>\n",
              "    <tr>\n",
              "      <th>2020-12-31</th>\n",
              "      <td>0.037506</td>\n",
              "      <td>0.128911</td>\n",
              "    </tr>\n",
              "    <tr>\n",
              "      <th>2021-01-31</th>\n",
              "      <td>0.047257</td>\n",
              "      <td>0.163374</td>\n",
              "    </tr>\n",
              "    <tr>\n",
              "      <th>2021-02-28</th>\n",
              "      <td>0.063384</td>\n",
              "      <td>0.220645</td>\n",
              "    </tr>\n",
              "    <tr>\n",
              "      <th>2021-03-31</th>\n",
              "      <td>0.057464</td>\n",
              "      <td>0.199217</td>\n",
              "    </tr>\n",
              "    <tr>\n",
              "      <th>2021-04-30</th>\n",
              "      <td>0.046742</td>\n",
              "      <td>0.161976</td>\n",
              "    </tr>\n",
              "    <tr>\n",
              "      <th>2021-05-31</th>\n",
              "      <td>0.063863</td>\n",
              "      <td>0.221686</td>\n",
              "    </tr>\n",
              "    <tr>\n",
              "      <th>2021-06-30</th>\n",
              "      <td>0.050170</td>\n",
              "      <td>0.174039</td>\n",
              "    </tr>\n",
              "    <tr>\n",
              "      <th>2021-07-31</th>\n",
              "      <td>0.045025</td>\n",
              "      <td>0.156086</td>\n",
              "    </tr>\n",
              "    <tr>\n",
              "      <th>2021-08-31</th>\n",
              "      <td>0.037093</td>\n",
              "      <td>0.128212</td>\n",
              "    </tr>\n",
              "  </tbody>\n",
              "</table>\n",
              "</div>"
            ],
            "text/plain": [
              "            simple_rtn        rv\n",
              "Date                            \n",
              "2020-01-31    0.047634  0.165058\n",
              "2020-02-29    0.065219  0.228281\n",
              "2020-03-31    0.163448  0.563311\n",
              "2020-04-30    0.098564  0.340374\n",
              "2020-05-31    0.062186  0.214690\n",
              "2020-06-30    0.078650  0.271533\n",
              "2020-07-31    0.050682  0.175791\n",
              "2020-08-31    0.047215  0.162555\n",
              "2020-09-30    0.034970  0.121269\n",
              "2020-10-31    0.028773  0.099693\n",
              "2020-11-30    0.055846  0.191857\n",
              "2020-12-31    0.037506  0.128911\n",
              "2021-01-31    0.047257  0.163374\n",
              "2021-02-28    0.063384  0.220645\n",
              "2021-03-31    0.057464  0.199217\n",
              "2021-04-30    0.046742  0.161976\n",
              "2021-05-31    0.063863  0.221686\n",
              "2021-06-30    0.050170  0.174039\n",
              "2021-07-31    0.045025  0.156086\n",
              "2021-08-31    0.037093  0.128212"
            ]
          },
          "metadata": {},
          "execution_count": 11
        }
      ]
    },
    {
      "cell_type": "code",
      "metadata": {
        "colab": {
          "base_uri": "https://localhost:8080/",
          "height": 282
        },
        "id": "8MdwSXgTBXGF",
        "outputId": "d793e63b-482c-4e66-bbce-7705d79e5e5d"
      },
      "source": [
        "# create line charts\n",
        "fig, ax = plt.subplots(2, 1, sharex = True)\n",
        "ax[0].plot(df_adj.adj_close)\n",
        "ax[1].plot(df_rv.rv)"
      ],
      "execution_count": null,
      "outputs": [
        {
          "output_type": "execute_result",
          "data": {
            "text/plain": [
              "[<matplotlib.lines.Line2D at 0x7f0eb4454390>]"
            ]
          },
          "metadata": {},
          "execution_count": 14
        },
        {
          "output_type": "display_data",
          "data": {
            "image/png": "[encoded data removed]",
            "text/plain": [
              "<Figure size 432x288 with 2 Axes>"
            ]
          },
          "metadata": {
            "needs_background": "light"
          }
        }
      ]
    },
    {
      "cell_type": "code",
      "metadata": {
        "id": "kPFZp7wEw8E4"
      },
      "source": [],
      "execution_count": null,
      "outputs": []
    }
  ]
}